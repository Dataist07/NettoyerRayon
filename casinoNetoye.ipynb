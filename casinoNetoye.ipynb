{
 "cells": [
  {
   "cell_type": "code",
   "execution_count": 1,
   "metadata": {},
   "outputs": [],
   "source": [
    "import csv\n",
    "import pandas as pd\n",
    "from datetime import date\n",
    "\n",
    "month = '2'\n",
    "today = date.today()\n",
    "year = today.year\n",
    "\n",
    "\n",
    "dfSupermarket= pd.read_csv(f'/Users/minh/Desktop/Comparator/Scrap/Data_base/{year}/{month}/drivesScraped/list_drives_casinoScraped.csv', dtype={\"department\": str})\n",
    "\n",
    "for i,supermarket in enumerate(dfSupermarket['supermarket']):\n",
    "    department = dfSupermarket.iloc[i][\"department\"]\n",
    "    city = dfSupermarket.iloc[i][\"city\"]\n",
    "    dateScraped= dfSupermarket.iloc[i][\"date_scraped\"]\n",
    "    nom_drive = dfSupermarket.iloc[i][\"nom_drive\"]\n",
    "\n",
    "    dfProduits = pd.read_csv(f'/Users/minh/Desktop/Comparator/Scrap/Data_base/{year}/{month}/{department}/{city}/{nom_drive}/{dateScraped}/{supermarket}_produits.csv')\n",
    "    # 1\n",
    "    dfProduits['rayon_principal'] = dfProduits['rayon_principal'].replace('Fruits et légumes', 'Fruits, légumes') \n",
    "    #2\n",
    "    dfProduits['rayon_principal'] = dfProduits['rayon_principal'].replace('Viandes et poissons', 'Viandes, poissons')\n",
    "    #3\n",
    "    dfProduits['rayon_principal'] = dfProduits['rayon_principal'].replace('Charcuterie traiteur', 'Charcuterie, traiteur')\n",
    "    #4\n",
    "    dfProduits['rayon_principal'] = dfProduits['rayon_principal'].replace('Pains et pâtisserie', 'Pain, pâtisserie')\n",
    "    #5\n",
    "    dfProduits['rayon_principal'] = dfProduits['rayon_principal'].replace('Produits laitiers', 'Produits laitiers, oeufs, fromages')\n",
    "    #6\n",
    "    dfProduits['rayon_principal'] = dfProduits['rayon_principal'].replace('Produits Bio', 'Bio')\n",
    "    dfProduits.loc[(dfProduits['rayon_principal'] == 'Surgelés') & (dfProduits['rayon_secondaire'] == 'Surgelés Bio'), 'rayon_principal'] = 'Bio'\n",
    "    #7\n",
    "    #8\n",
    "    #9\n",
    "    #10\n",
    "    #11\n",
    "    dfProduits.loc[(dfProduits['rayon_principal'] == 'Épicerie salée') & (dfProduits['rayon_secondaire'] == 'Plats cuisinés et cuisine du monde'), 'rayon_principal'] = 'Produits du monde'\n",
    "    #12\n",
    "    dfProduits['rayon_principal'] = dfProduits['rayon_principal'].replace('Bien être et nutrition', 'Nutrition, végétale')\n",
    "    #13\n",
    "    dfProduits['rayon_principal'] = dfProduits['rayon_principal'].replace('Univers de bébé', 'Bébé')\n",
    "    #14\n",
    "    dfProduits['rayon_principal'] = dfProduits['rayon_principal'].replace('Hygiène et beauté', 'Hygiène, beauté')\n",
    "    #15\n",
    "    dfProduits['rayon_principal'] = dfProduits['rayon_principal'].replace('Entretien nettoyage', 'Entretien, nettoyage')\n",
    "    #16\n",
    "    dfProduits['rayon_principal'] = dfProduits['rayon_principal'].replace('Animalerie', 'Animal')\n",
    "\n",
    "    # Save the modified DataFrame (optional)\n",
    "    dfProduits.to_csv(f'/Users/minh/Desktop/Comparator/Scrap/Data_base/{year}/{month}/{department}/{city}/{nom_drive}/{dateScraped}/{supermarket}_produits.csv', index=False)  # Adjust path as needed\n",
    "\n"
   ]
  }
 ],
 "metadata": {
  "kernelspec": {
   "display_name": "base",
   "language": "python",
   "name": "python3"
  },
  "language_info": {
   "codemirror_mode": {
    "name": "ipython",
    "version": 3
   },
   "file_extension": ".py",
   "mimetype": "text/x-python",
   "name": "python",
   "nbconvert_exporter": "python",
   "pygments_lexer": "ipython3",
   "version": "3.11.3"
  },
  "orig_nbformat": 4
 },
 "nbformat": 4,
 "nbformat_minor": 2
}
