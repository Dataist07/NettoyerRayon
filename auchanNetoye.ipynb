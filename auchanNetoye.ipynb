{
 "cells": [
  {
   "cell_type": "code",
   "execution_count": 7,
   "metadata": {},
   "outputs": [],
   "source": [
    "import csv\n",
    "import pandas as pd\n",
    "from datetime import date\n",
    "\n",
    "month = '4'\n",
    "today = date.today()\n",
    "year = today.year\n",
    "\n",
    "\n",
    "dfSupermarket= pd.read_csv(f'/Users/minh/Desktop/Comparator/Scrap/Data_base/{year}/{month}/drivesScraped/list_drives_auchanScraped.csv', dtype={\"department\": str})\n",
    "\n",
    "for i,supermarket in enumerate(dfSupermarket['supermarket']):\n",
    "    department = dfSupermarket.iloc[i][\"department\"]\n",
    "    city = dfSupermarket.iloc[i][\"city\"]\n",
    "    dateScraped= dfSupermarket.iloc[i][\"date_scraped\"]\n",
    "    nom_drive = dfSupermarket.iloc[i][\"nom_drive\"]\n",
    "\n",
    "    dfProduits = pd.read_csv(f'/Users/minh/Desktop/Comparator/Scrap/Data_base/{year}/{month}/{department}/{city}/{nom_drive}/{dateScraped}/{supermarket}_produits.csv')\n",
    "    # 1\n",
    "   \n",
    "    #2\n",
    "    dfProduits['rayon_principal'] = dfProduits['rayon_principal'].replace('Boucherie, volaille, poissonnerie', 'Viandes, poissons')\n",
    "    dfProduits.loc[(dfProduits['rayon_principal'] == 'Marché frais') & (dfProduits['rayon_secondaire'] == 'La boucherie à la coupe'), 'rayon_principal'] = 'Viandes, poissons'\n",
    "    #3\n",
    "    dfProduits['rayon_principal'] = dfProduits['rayon_principal'].replace('Charcuterie, traiteur', 'Charcuterie, traiteur')\n",
    "    dfProduits.loc[(dfProduits['rayon_principal'] == 'Marché frais') & (dfProduits['rayon_secondaire'] == 'Le traiteur, la rôtisserie'), 'rayon_principal'] = 'Charcuterie, traiteur'\n",
    "    #4\n",
    "    dfProduits.loc[(dfProduits['rayon_principal'] == 'Marché frais') & (dfProduits['rayon_secondaire'] == 'La boulangerie, pâtisserie'), 'rayon_principal'] = 'Pain, pâtisserie'\n",
    "    #5\n",
    "    dfProduits['rayon_principal'] = dfProduits['rayon_principal'].replace('Bio et écologique', 'Bio')\n",
    "    #7\n",
    "    #8\n",
    "    dfProduits['rayon_principal'] = dfProduits['rayon_principal'].replace('Epicerie sucrée', 'Épicerie sucrée')\n",
    "    #9\n",
    "    dfProduits['rayon_principal'] = dfProduits['rayon_principal'].replace('Epicerie salée', 'Épicerie salée')\n",
    "    #10\n",
    "    dfProduits['rayon_principal'] = dfProduits['rayon_principal'].replace('Eaux, jus, soda, thés glacés', 'Boissons')\n",
    "    dfProduits['rayon_principal'] = dfProduits['rayon_principal'].replace('Vins, bières, alcools', 'Boissons')\n",
    "    #11\n",
    "    dfProduits['rayon_principal'] = dfProduits['rayon_principal'].replace('Produits du monde et de nos régions', 'Produits du monde')\n",
    "    dfProduits.loc[(dfProduits['rayon_principal'] == 'Épicerie salée') & (dfProduits['rayon_secondaire'] == 'Plats cuisinés, produits du monde'), 'rayon_principal'] = 'Produits du monde'\n",
    "    #12\n",
    "    dfProduits['rayon_principal'] = dfProduits['rayon_principal'].replace('Régimes alimentaires et nutrition', 'Nutrition, végétale')\n",
    "    #13\n",
    "    dfProduits['rayon_principal'] = dfProduits['rayon_principal'].replace('Tout pour bébé', 'Bébé')\n",
    "    #14\n",
    "    #15\n",
    "    dfProduits['rayon_principal'] = dfProduits['rayon_principal'].replace('Entretien, accessoires de la maison', 'Entretien, nettoyage')\n",
    "    #16\n",
    "    dfProduits['rayon_principal'] = dfProduits['rayon_principal'].replace('Animalerie', 'Animal')\n",
    "\n",
    "    # Save the modified DataFrame (optional)\n",
    "    dfProduits.to_csv(f'/Users/minh/Desktop/Comparator/Scrap/Data_base/{year}/{month}/{department}/{city}/{nom_drive}/{dateScraped}/{supermarket}_produitsNetoye.csv', index=False)  # Adjust path as needed\n",
    "\n"
   ]
  }
 ],
 "metadata": {
  "kernelspec": {
   "display_name": "base",
   "language": "python",
   "name": "python3"
  },
  "language_info": {
   "codemirror_mode": {
    "name": "ipython",
    "version": 3
   },
   "file_extension": ".py",
   "mimetype": "text/x-python",
   "name": "python",
   "nbconvert_exporter": "python",
   "pygments_lexer": "ipython3",
   "version": "3.11.3"
  },
  "orig_nbformat": 4
 },
 "nbformat": 4,
 "nbformat_minor": 2
}
